{
 "cells": [
  {
   "cell_type": "code",
   "execution_count": null,
   "metadata": {},
   "outputs": [],
   "source": [
    "import os\n",
    "import time\n",
    "import pandas as pd\n",
    "from PIL import Image\n",
    "import numpy as np\n",
    "from scipy.ndimage import convolve\n",
    "from skimage.color import rgb2gray\n",
    "from graphConstructor import get_neighbors, sobel_filters, construct_graph_with_gradients\n",
    "\n",
    "def process_images(folder_path):\n",
    "    results = []\n",
    "\n",
    "    for filename in os.listdir(folder_path):\n",
    "        if filename.endswith(('.png', '.jpg', '.jpeg')):\n",
    "            image_path = os.path.join(folder_path, filename)\n",
    "            image = np.array(Image.open(image_path).convert('L'))\n",
    "\n",
    "            start_time = time.time()\n",
    "\n",
    "            # Apply Sobel filters and construct graph\n",
    "            Gx, Gy, G = sobel_filters(image)\n",
    "            graph = construct_graph_with_gradients(image, G)\n",
    "            time_taken = time.time() - start_time\n",
    "\n",
    "            # Record the results\n",
    "            results.append({\n",
    "                'Image Name': filename,\n",
    "                'Shape': image.shape,\n",
    "                'Time Taken (s)': time_taken\n",
    "            })\n",
    "\n",
    "    return pd.DataFrame(results)\n",
    "\n",
    "folder_path = 'images' \n",
    "result_table = process_images(folder_path)\n",
    "print(result_table)\n"
   ]
  }
 ],
 "metadata": {
  "kernelspec": {
   "display_name": "520",
   "language": "python",
   "name": "python3"
  },
  "language_info": {
   "name": "python",
   "version": "3.8.10"
  }
 },
 "nbformat": 4,
 "nbformat_minor": 2
}
