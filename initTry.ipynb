def construct_graph(image):
    rows, cols = len(image), len(image[0])
    graph = {}  # Use a dictionary to represent the graph

    for row in range(rows):
        for col in range(cols):
            graph[(row, col)] = {}  # Initialize a dictionary for each pixel

            # Add edges to neighbors (4-way or 8-way)
            # You need to define `get_neighbors` and `calculate_weight`
            for neighbor in get_neighbors(row, col, rows, cols):
                weight = calculate_weight(image[row][col], image[neighbor[0]][neighbor[1]])
                graph[(row, col)][neighbor] = weight
    
    return graph
