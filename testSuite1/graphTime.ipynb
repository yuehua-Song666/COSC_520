{
 "cells": [
  {
   "cell_type": "code",
   "execution_count": 13,
   "metadata": {},
   "outputs": [
    {
     "ename": "KeyboardInterrupt",
     "evalue": "",
     "output_type": "error",
     "traceback": [
      "\u001b[0;31m---------------------------------------------------------------------------\u001b[0m",
      "\u001b[0;31mKeyboardInterrupt\u001b[0m                         Traceback (most recent call last)",
      "\u001b[1;32m/Users/kevin/Library/CloudStorage/OneDrive-UBC/school/2023 fall/520/COSC_520/testSuite1/graphTime.ipynb Cell 1\u001b[0m line \u001b[0;36m3\n\u001b[1;32m     <a href='vscode-notebook-cell:/Users/kevin/Library/CloudStorage/OneDrive-UBC/school/2023%20fall/520/COSC_520/testSuite1/graphTime.ipynb#W0sZmlsZQ%3D%3D?line=34'>35</a>\u001b[0m     \u001b[39mreturn\u001b[39;00m pd\u001b[39m.\u001b[39mDataFrame(results)\n\u001b[1;32m     <a href='vscode-notebook-cell:/Users/kevin/Library/CloudStorage/OneDrive-UBC/school/2023%20fall/520/COSC_520/testSuite1/graphTime.ipynb#W0sZmlsZQ%3D%3D?line=36'>37</a>\u001b[0m folder_path \u001b[39m=\u001b[39m \u001b[39m'\u001b[39m\u001b[39mimages\u001b[39m\u001b[39m'\u001b[39m \n\u001b[0;32m---> <a href='vscode-notebook-cell:/Users/kevin/Library/CloudStorage/OneDrive-UBC/school/2023%20fall/520/COSC_520/testSuite1/graphTime.ipynb#W0sZmlsZQ%3D%3D?line=37'>38</a>\u001b[0m result_table \u001b[39m=\u001b[39m process_images(folder_path)\n\u001b[1;32m     <a href='vscode-notebook-cell:/Users/kevin/Library/CloudStorage/OneDrive-UBC/school/2023%20fall/520/COSC_520/testSuite1/graphTime.ipynb#W0sZmlsZQ%3D%3D?line=38'>39</a>\u001b[0m \u001b[39mprint\u001b[39m(result_table)\n",
      "\u001b[1;32m/Users/kevin/Library/CloudStorage/OneDrive-UBC/school/2023 fall/520/COSC_520/testSuite1/graphTime.ipynb Cell 1\u001b[0m line \u001b[0;36m2\n\u001b[1;32m     <a href='vscode-notebook-cell:/Users/kevin/Library/CloudStorage/OneDrive-UBC/school/2023%20fall/520/COSC_520/testSuite1/graphTime.ipynb#W0sZmlsZQ%3D%3D?line=21'>22</a>\u001b[0m filter_end_time\u001b[39m=\u001b[39m time\u001b[39m.\u001b[39mtime()\u001b[39m-\u001b[39mstart_time\n\u001b[1;32m     <a href='vscode-notebook-cell:/Users/kevin/Library/CloudStorage/OneDrive-UBC/school/2023%20fall/520/COSC_520/testSuite1/graphTime.ipynb#W0sZmlsZQ%3D%3D?line=22'>23</a>\u001b[0m start_time \u001b[39m=\u001b[39m time\u001b[39m.\u001b[39mtime()\n\u001b[0;32m---> <a href='vscode-notebook-cell:/Users/kevin/Library/CloudStorage/OneDrive-UBC/school/2023%20fall/520/COSC_520/testSuite1/graphTime.ipynb#W0sZmlsZQ%3D%3D?line=23'>24</a>\u001b[0m graph \u001b[39m=\u001b[39m construct_graph_with_gradients(image, G)\n\u001b[1;32m     <a href='vscode-notebook-cell:/Users/kevin/Library/CloudStorage/OneDrive-UBC/school/2023%20fall/520/COSC_520/testSuite1/graphTime.ipynb#W0sZmlsZQ%3D%3D?line=24'>25</a>\u001b[0m time_taken \u001b[39m=\u001b[39m time\u001b[39m.\u001b[39mtime() \u001b[39m-\u001b[39m start_time\n\u001b[1;32m     <a href='vscode-notebook-cell:/Users/kevin/Library/CloudStorage/OneDrive-UBC/school/2023%20fall/520/COSC_520/testSuite1/graphTime.ipynb#W0sZmlsZQ%3D%3D?line=26'>27</a>\u001b[0m \u001b[39m# Record the results\u001b[39;00m\n",
      "File \u001b[0;32m~/Library/CloudStorage/OneDrive-UBC/school/2023 fall/520/COSC_520/testSuite1/graphConstructor.py:66\u001b[0m, in \u001b[0;36mconstruct_graph_with_gradients\u001b[0;34m(image, G)\u001b[0m\n\u001b[1;32m     62\u001b[0m         graph[(row, col)] \u001b[39m=\u001b[39m {}\n\u001b[1;32m     63\u001b[0m         \u001b[39mfor\u001b[39;00m neighbor \u001b[39min\u001b[39;00m get_neighbors(row, col, rows, cols):\n\u001b[1;32m     64\u001b[0m             \u001b[39m# Use inverse of gradient magnitude as weight\u001b[39;00m\n\u001b[1;32m     65\u001b[0m             \u001b[39m# Adding a small constant to avoid division by zero\u001b[39;00m\n\u001b[0;32m---> 66\u001b[0m             weight \u001b[39m=\u001b[39m \u001b[39m1\u001b[39m \u001b[39m/\u001b[39m (G[neighbor] \u001b[39m+\u001b[39;49m \u001b[39m1e-5\u001b[39;49m)\n\u001b[1;32m     67\u001b[0m             graph[(row, col)][neighbor] \u001b[39m=\u001b[39m weight\n\u001b[1;32m     69\u001b[0m \u001b[39mreturn\u001b[39;00m graph\n",
      "\u001b[0;31mKeyboardInterrupt\u001b[0m: "
     ]
    }
   ],
   "source": [
    "import os\n",
    "import time\n",
    "import pandas as pd\n",
    "from PIL import Image\n",
    "import numpy as np\n",
    "from scipy.ndimage import convolve\n",
    "from skimage.color import rgb2gray\n",
    "from graphConstructor import get_neighbors, sobel_filters, construct_graph_with_gradients\n",
    "\n",
    "def process_images(folder_path):\n",
    "    results = []\n",
    "\n",
    "    for filename in os.listdir(folder_path):\n",
    "        if filename.endswith(('.png', '.jpg', '.jpeg','.bmp')):\n",
    "            image_path = os.path.join(folder_path, filename)\n",
    "            image = np.array(Image.open(image_path).convert('L'))\n",
    "\n",
    "            start_time = time.time()\n",
    "\n",
    "            # Apply Sobel filters and construct graph\n",
    "            Gx, Gy, G = sobel_filters(image)\n",
    "            filter_end_time= time.time()-start_time\n",
    "            start_time = time.time()\n",
    "            graph = construct_graph_with_gradients(image, G)\n",
    "            time_taken = time.time() - start_time\n",
    "\n",
    "            # Record the results\n",
    "            results.append({\n",
    "                'Image Name': filename,\n",
    "                'Shape': image.shape,\n",
    "                'Filter Time': filter_end_time,\n",
    "                'Graph Time': time_taken,\n",
    "            })\n",
    "\n",
    "    return pd.DataFrame(results)\n",
    "\n",
    "folder_path = 'images' \n",
    "result_table = process_images(folder_path)\n",
    "print(result_table)\n"
   ]
  },
  {
   "cell_type": "code",
   "execution_count": 5,
   "metadata": {},
   "outputs": [
    {
     "name": "stdout",
     "output_type": "stream",
     "text": [
      "['/Users/kevin/Library/CloudStorage/OneDrive-UBC/school/2023 fall/520/COSC_520/testSuite1', '/Library/Frameworks/Python.framework/Versions/3.8/lib/python38.zip', '/Library/Frameworks/Python.framework/Versions/3.8/lib/python3.8', '/Library/Frameworks/Python.framework/Versions/3.8/lib/python3.8/lib-dynload', '', '/Users/kevin/Library/CloudStorage/OneDrive-UBC/school/2023 fall/520/520/lib/python3.8/site-packages']\n",
      "Gx (Gradient in x-direction):\n",
      " [[ -83  -94  -84  -73]\n",
      " [ -86   38  -22 -146]\n",
      " [ -24   15  -66 -105]\n",
      " [ -63 -147  -20   64]]\n",
      "\n",
      "Gy (Gradient in y-direction):\n",
      " [[-167 -140   10   57]\n",
      " [-128  -26   18  -40]\n",
      " [ 138   75  -36   19]\n",
      " [  99  -39  -44  116]]\n",
      "\n",
      "G (Gradient Magnitude):\n",
      " [[186.48860555 168.62977199  84.59314393  92.61749295]\n",
      " [154.20765221  46.04345773  28.42534081 151.38031576]\n",
      " [140.07141036  76.4852927   75.17978452 106.70520137]\n",
      " [117.34564329 152.08550227  48.33218389 132.48396129]]\n"
     ]
    }
   ],
   "source": [
    "import sys\n",
    "print(sys.path)\n",
    "\n",
    "# from graphEnergy import  energy_filter, construct_graph_with_gradients\n",
    "# simple test with standard graph to show that the filter works\n",
    "image = np.array([[ 57, 119, 242,  99, 120,  38,  89],\n",
    " [  3, 100, 210, 165, 186, 251, 255],\n",
    " [ 26, 125,   7, 178, 198, 154, 254],\n",
    " [193, 187, 251,  83,  98, 212,  61],\n",
    " [ 21,  99, 220, 237,  77, 205, 193],\n",
    " [ 31, 238,  96, 143, 190,  39,   4],\n",
    " [ 19, 201, 189,  19,  40,  18,  17]]) \n",
    "image2= np.array(\n",
    "  [[10,20,51,61],[41,94,12,55],[52,22,31,81],[12,43, 68,30]]\n",
    ")\n",
    "Gx, Gy,G = sobel_filters(image2)\n",
    "print(\"Gx (Gradient in x-direction):\\n\", Gx)\n",
    "print(\"\\nGy (Gradient in y-direction):\\n\", Gy)\n",
    "print(\"\\nG (Gradient Magnitude):\\n\", G)\n"
   ]
  }
 ],
 "metadata": {
  "kernelspec": {
   "display_name": "520",
   "language": "python",
   "name": "python3"
  },
  "language_info": {
   "codemirror_mode": {
    "name": "ipython",
    "version": 3
   },
   "file_extension": ".py",
   "mimetype": "text/x-python",
   "name": "python",
   "nbconvert_exporter": "python",
   "pygments_lexer": "ipython3",
   "version": "3.8.10"
  }
 },
 "nbformat": 4,
 "nbformat_minor": 2
}
