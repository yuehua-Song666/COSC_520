{
 "cells": [
  {
   "cell_type": "code",
   "execution_count": 3,
   "metadata": {},
   "outputs": [
    {
     "name": "stdout",
     "output_type": "stream",
     "text": [
      "    Image Name       Shape  Time Taken (s)\n",
      "0   Case12.bmp  (486, 648)        2.269742\n",
      "1  Case1.1.jpg  (420, 560)        1.785424\n"
     ]
    }
   ],
   "source": [
    "import os\n",
    "import time\n",
    "import pandas as pd\n",
    "from PIL import Image\n",
    "import numpy as np\n",
    "from scipy.ndimage import convolve\n",
    "from skimage.color import rgb2gray\n",
    "from graphConstructor import get_neighbors, sobel_filters, construct_graph_with_gradients\n",
    "\n",
    "def process_images(folder_path):\n",
    "    results = []\n",
    "\n",
    "    for filename in os.listdir(folder_path):\n",
    "        if filename.endswith(('.png', '.jpg', '.jpeg','.bmp')):\n",
    "            image_path = os.path.join(folder_path, filename)\n",
    "            image = np.array(Image.open(image_path).convert('L'))\n",
    "\n",
    "            start_time = time.time()\n",
    "\n",
    "            # Apply Sobel filters and construct graph\n",
    "            Gx, Gy, G = sobel_filters(image)\n",
    "            graph = construct_graph_with_gradients(image, G)\n",
    "            time_taken = time.time() - start_time\n",
    "\n",
    "            # Record the results\n",
    "            results.append({\n",
    "                'Image Name': filename,\n",
    "                'Shape': image.shape,\n",
    "                'Time Taken (s)': time_taken\n",
    "            })\n",
    "\n",
    "    return pd.DataFrame(results)\n",
    "\n",
    "folder_path = 'images' \n",
    "result_table = process_images(folder_path)\n",
    "print(result_table)\n"
   ]
  },
  {
   "cell_type": "code",
   "execution_count": 4,
   "metadata": {},
   "outputs": [
    {
     "name": "stdout",
     "output_type": "stream",
     "text": [
      "['/Users/kevin/Library/CloudStorage/OneDrive-UBC/school/2023 fall/520/COSC_520/testSuite1', '/Library/Frameworks/Python.framework/Versions/3.8/lib/python38.zip', '/Library/Frameworks/Python.framework/Versions/3.8/lib/python3.8', '/Library/Frameworks/Python.framework/Versions/3.8/lib/python3.8/lib-dynload', '', '/Users/kevin/Library/CloudStorage/OneDrive-UBC/school/2023 fall/520/520/lib/python3.8/site-packages']\n"
     ]
    },
    {
     "ename": "ValueError",
     "evalue": "too many values to unpack (expected 2)",
     "output_type": "error",
     "traceback": [
      "\u001b[0;31m---------------------------------------------------------------------------\u001b[0m",
      "\u001b[0;31mValueError\u001b[0m                                Traceback (most recent call last)",
      "\u001b[1;32m/Users/kevin/Library/CloudStorage/OneDrive-UBC/school/2023 fall/520/COSC_520/testSuite1/graphTime.ipynb Cell 2\u001b[0m line \u001b[0;36m1\n\u001b[1;32m      <a href='vscode-notebook-cell:/Users/kevin/Library/CloudStorage/OneDrive-UBC/school/2023%20fall/520/COSC_520/testSuite1/graphTime.ipynb#W1sZmlsZQ%3D%3D?line=5'>6</a>\u001b[0m image \u001b[39m=\u001b[39m np\u001b[39m.\u001b[39marray([[ \u001b[39m57\u001b[39m, \u001b[39m119\u001b[39m, \u001b[39m242\u001b[39m,  \u001b[39m99\u001b[39m, \u001b[39m120\u001b[39m,  \u001b[39m38\u001b[39m,  \u001b[39m89\u001b[39m],\n\u001b[1;32m      <a href='vscode-notebook-cell:/Users/kevin/Library/CloudStorage/OneDrive-UBC/school/2023%20fall/520/COSC_520/testSuite1/graphTime.ipynb#W1sZmlsZQ%3D%3D?line=6'>7</a>\u001b[0m  [  \u001b[39m3\u001b[39m, \u001b[39m100\u001b[39m, \u001b[39m210\u001b[39m, \u001b[39m165\u001b[39m, \u001b[39m186\u001b[39m, \u001b[39m251\u001b[39m, \u001b[39m255\u001b[39m],\n\u001b[1;32m      <a href='vscode-notebook-cell:/Users/kevin/Library/CloudStorage/OneDrive-UBC/school/2023%20fall/520/COSC_520/testSuite1/graphTime.ipynb#W1sZmlsZQ%3D%3D?line=7'>8</a>\u001b[0m  [ \u001b[39m26\u001b[39m, \u001b[39m125\u001b[39m,   \u001b[39m7\u001b[39m, \u001b[39m178\u001b[39m, \u001b[39m198\u001b[39m, \u001b[39m154\u001b[39m, \u001b[39m254\u001b[39m],\n\u001b[0;32m   (...)\u001b[0m\n\u001b[1;32m     <a href='vscode-notebook-cell:/Users/kevin/Library/CloudStorage/OneDrive-UBC/school/2023%20fall/520/COSC_520/testSuite1/graphTime.ipynb#W1sZmlsZQ%3D%3D?line=10'>11</a>\u001b[0m  [ \u001b[39m31\u001b[39m, \u001b[39m238\u001b[39m,  \u001b[39m96\u001b[39m, \u001b[39m143\u001b[39m, \u001b[39m190\u001b[39m,  \u001b[39m39\u001b[39m,   \u001b[39m4\u001b[39m],\n\u001b[1;32m     <a href='vscode-notebook-cell:/Users/kevin/Library/CloudStorage/OneDrive-UBC/school/2023%20fall/520/COSC_520/testSuite1/graphTime.ipynb#W1sZmlsZQ%3D%3D?line=11'>12</a>\u001b[0m  [ \u001b[39m19\u001b[39m, \u001b[39m201\u001b[39m, \u001b[39m189\u001b[39m,  \u001b[39m19\u001b[39m,  \u001b[39m40\u001b[39m,  \u001b[39m18\u001b[39m,  \u001b[39m17\u001b[39m]]) \n\u001b[1;32m     <a href='vscode-notebook-cell:/Users/kevin/Library/CloudStorage/OneDrive-UBC/school/2023%20fall/520/COSC_520/testSuite1/graphTime.ipynb#W1sZmlsZQ%3D%3D?line=12'>13</a>\u001b[0m image2\u001b[39m=\u001b[39m np\u001b[39m.\u001b[39marray(\n\u001b[1;32m     <a href='vscode-notebook-cell:/Users/kevin/Library/CloudStorage/OneDrive-UBC/school/2023%20fall/520/COSC_520/testSuite1/graphTime.ipynb#W1sZmlsZQ%3D%3D?line=13'>14</a>\u001b[0m   [[\u001b[39m10\u001b[39m,\u001b[39m20\u001b[39m,\u001b[39m51\u001b[39m,\u001b[39m61\u001b[39m],[\u001b[39m41\u001b[39m,\u001b[39m94\u001b[39m,\u001b[39m12\u001b[39m,\u001b[39m55\u001b[39m],[\u001b[39m52\u001b[39m,\u001b[39m22\u001b[39m,\u001b[39m31\u001b[39m,\u001b[39m81\u001b[39m],[\u001b[39m12\u001b[39m,\u001b[39m43\u001b[39m, \u001b[39m68\u001b[39m,\u001b[39m30\u001b[39m]]\n\u001b[1;32m     <a href='vscode-notebook-cell:/Users/kevin/Library/CloudStorage/OneDrive-UBC/school/2023%20fall/520/COSC_520/testSuite1/graphTime.ipynb#W1sZmlsZQ%3D%3D?line=14'>15</a>\u001b[0m )\n\u001b[0;32m---> <a href='vscode-notebook-cell:/Users/kevin/Library/CloudStorage/OneDrive-UBC/school/2023%20fall/520/COSC_520/testSuite1/graphTime.ipynb#W1sZmlsZQ%3D%3D?line=15'>16</a>\u001b[0m Gx, Gy, \u001b[39m=\u001b[39m sobel_filters(image2)\n\u001b[1;32m     <a href='vscode-notebook-cell:/Users/kevin/Library/CloudStorage/OneDrive-UBC/school/2023%20fall/520/COSC_520/testSuite1/graphTime.ipynb#W1sZmlsZQ%3D%3D?line=16'>17</a>\u001b[0m \u001b[39mprint\u001b[39m(\u001b[39m\"\u001b[39m\u001b[39mGx (Gradient in x-direction):\u001b[39m\u001b[39m\\n\u001b[39;00m\u001b[39m\"\u001b[39m, Gx)\n\u001b[1;32m     <a href='vscode-notebook-cell:/Users/kevin/Library/CloudStorage/OneDrive-UBC/school/2023%20fall/520/COSC_520/testSuite1/graphTime.ipynb#W1sZmlsZQ%3D%3D?line=17'>18</a>\u001b[0m \u001b[39mprint\u001b[39m(\u001b[39m\"\u001b[39m\u001b[39m\\n\u001b[39;00m\u001b[39mGy (Gradient in y-direction):\u001b[39m\u001b[39m\\n\u001b[39;00m\u001b[39m\"\u001b[39m, Gy)\n",
      "\u001b[0;31mValueError\u001b[0m: too many values to unpack (expected 2)"
     ]
    }
   ],
   "source": [
    "import sys\n",
    "print(sys.path)\n",
    "\n",
    "# from graphEnergy import  energy_filter, construct_graph_with_gradients\n",
    "# simple test with standard graph to show that the filter works\n",
    "image = np.array([[ 57, 119, 242,  99, 120,  38,  89],\n",
    " [  3, 100, 210, 165, 186, 251, 255],\n",
    " [ 26, 125,   7, 178, 198, 154, 254],\n",
    " [193, 187, 251,  83,  98, 212,  61],\n",
    " [ 21,  99, 220, 237,  77, 205, 193],\n",
    " [ 31, 238,  96, 143, 190,  39,   4],\n",
    " [ 19, 201, 189,  19,  40,  18,  17]]) \n",
    "image2= np.array(\n",
    "  [[10,20,51,61],[41,94,12,55],[52,22,31,81],[12,43, 68,30]]\n",
    ")\n",
    "Gx, Gy,G = sobel_filters(image2)\n",
    "print(\"Gx (Gradient in x-direction):\\n\", Gx)\n",
    "print(\"\\nGy (Gradient in y-direction):\\n\", Gy)\n",
    "print(\"\\nG (Gradient Magnitude):\\n\", G)\n"
   ]
  }
 ],
 "metadata": {
  "kernelspec": {
   "display_name": "520",
   "language": "python",
   "name": "python3"
  },
  "language_info": {
   "codemirror_mode": {
    "name": "ipython",
    "version": 3
   },
   "file_extension": ".py",
   "mimetype": "text/x-python",
   "name": "python",
   "nbconvert_exporter": "python",
   "pygments_lexer": "ipython3",
   "version": "3.8.10"
  }
 },
 "nbformat": 4,
 "nbformat_minor": 2
}
